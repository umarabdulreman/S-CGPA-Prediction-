{
 "cells": [
  {
   "cell_type": "code",
   "execution_count": 1,
   "metadata": {},
   "outputs": [
    {
     "name": "stdout",
     "output_type": "stream",
     "text": [
      "                       Model  SGPA MSE   SGPA R2  CGPA MSE   CGPA R2\n",
      "0          Linear Regression  0.055989  0.798984  0.807278  0.319302\n",
      "1           Ridge Regression  0.055999  0.798950  0.807010  0.319528\n",
      "2           Lasso Regression  0.361542 -0.298028  1.187117 -0.000979\n",
      "3              Decision Tree  0.122033  0.561869  1.096620  0.075328\n",
      "4              Random Forest  0.092558  0.667692  1.034075  0.128066\n",
      "5  Support Vector Regression  0.130602  0.531106  0.900969  0.240301\n"
     ]
    }
   ],
   "source": [
    "import pandas as pd\n",
    "from sklearn.model_selection import train_test_split\n",
    "from sklearn.linear_model import LinearRegression, Ridge, Lasso\n",
    "from sklearn.tree import DecisionTreeRegressor\n",
    "from sklearn.ensemble import RandomForestRegressor\n",
    "from sklearn.svm import SVR\n",
    "from sklearn.metrics import mean_squared_error, r2_score\n",
    "import joblib\n",
    "\n",
    "# Load the preprocessed dataset\n",
    "file_path = \"C:\\\\Users\\\\HP\\\\Downloads\\\\assignment3\\\\Processed_Data_Set.csv\"\n",
    "preprocessed_data = pd.read_csv(file_path)\n",
    "\n",
    "# Splitting the data into features and target variables\n",
    "features = ['Matric percentage', 'Intermediate percentage', \n",
    "            'SGPA in BS First semester', 'SGPA in BS Second semester',\n",
    "            'SGPA in BS Third semester', 'SGPA in BS Fourth semester']\n",
    "\n",
    "X = preprocessed_data[features]\n",
    "y_sgpa = preprocessed_data['SGPA in BS Fifth semester']\n",
    "y_cgpa = preprocessed_data['CGPA in BS Fifth semester']\n",
    "\n",
    "# Split the data into training and testing sets (80% train, 20% test)\n",
    "X_train, X_test, y_sgpa_train, y_sgpa_test, y_cgpa_train, y_cgpa_test = train_test_split(\n",
    "    X, y_sgpa, y_cgpa, test_size=0.2, random_state=42)\n",
    "\n",
    "# Model selection\n",
    "models = {\n",
    "    'Linear Regression': LinearRegression(),\n",
    "    'Ridge Regression': Ridge(),\n",
    "    'Lasso Regression': Lasso(),\n",
    "    'Decision Tree': DecisionTreeRegressor(),\n",
    "    'Random Forest': RandomForestRegressor(),\n",
    "    'Support Vector Regression': SVR()\n",
    "}\n",
    "\n",
    "# Training and evaluation\n",
    "results = []\n",
    "\n",
    "for model_name, model in models.items():\n",
    "    # Train for SGPA\n",
    "    model.fit(X_train, y_sgpa_train)\n",
    "    sgpa_predictions = model.predict(X_test)\n",
    "    sgpa_mse = mean_squared_error(y_sgpa_test, sgpa_predictions)\n",
    "    sgpa_r2 = r2_score(y_sgpa_test, sgpa_predictions)\n",
    "\n",
    "    # Train for CGPA\n",
    "    model.fit(X_train, y_cgpa_train)\n",
    "    cgpa_predictions = model.predict(X_test)\n",
    "    cgpa_mse = mean_squared_error(y_cgpa_test, cgpa_predictions)\n",
    "    cgpa_r2 = r2_score(y_cgpa_test, cgpa_predictions)\n",
    "\n",
    "    # Store results for each model\n",
    "    results.append({\n",
    "        'Model': model_name,\n",
    "        'SGPA MSE': sgpa_mse,\n",
    "        'SGPA R2': sgpa_r2,\n",
    "        'CGPA MSE': cgpa_mse,\n",
    "        'CGPA R2': cgpa_r2\n",
    "    })\n",
    "\n",
    "    # Save each model to a joblib file\n",
    "    joblib.dump(model, f\"{model_name.replace(' ', '_')}_model.joblib\")\n",
    "\n",
    "# Displaying the results\n",
    "results_df = pd.DataFrame(results)\n",
    "print(results_df)\n"
   ]
  },
  {
   "cell_type": "code",
   "execution_count": null,
   "metadata": {},
   "outputs": [],
   "source": []
  }
 ],
 "metadata": {
  "kernelspec": {
   "display_name": "Python 3",
   "language": "python",
   "name": "python3"
  },
  "language_info": {
   "codemirror_mode": {
    "name": "ipython",
    "version": 3
   },
   "file_extension": ".py",
   "mimetype": "text/x-python",
   "name": "python",
   "nbconvert_exporter": "python",
   "pygments_lexer": "ipython3",
   "version": "3.9.0"
  }
 },
 "nbformat": 4,
 "nbformat_minor": 2
}
